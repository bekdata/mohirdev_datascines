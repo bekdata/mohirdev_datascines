{
  "nbformat": 4,
  "nbformat_minor": 0,
  "metadata": {
    "colab": {
      "provenance": [],
      "authorship_tag": "ABX9TyPjmupo6HPr1JxGwELZ0tc6",
      "include_colab_link": true
    },
    "kernelspec": {
      "name": "python3",
      "display_name": "Python 3"
    },
    "language_info": {
      "name": "python"
    }
  },
  "cells": [
    {
      "cell_type": "markdown",
      "metadata": {
        "id": "view-in-github",
        "colab_type": "text"
      },
      "source": [
        "<a href=\"https://colab.research.google.com/github/bekdata/mohirdev_datascines/blob/main/_010%7C_matematik_va_statik_amallar.ipynb\" target=\"_parent\"><img src=\"https://colab.research.google.com/assets/colab-badge.svg\" alt=\"Open In Colab\"/></a>"
      ]
    },
    {
      "cell_type": "code",
      "execution_count": null,
      "metadata": {
        "id": "FNitpiZGeDZv"
      },
      "outputs": [],
      "source": [
        "import numpy as np"
      ]
    },
    {
      "cell_type": "code",
      "source": [
        "#data\n",
        "arr = np.random.randn(5, 4)\n",
        "arr"
      ],
      "metadata": {
        "id": "gd2hHmhTeOUJ",
        "colab": {
          "base_uri": "https://localhost:8080/"
        },
        "outputId": "f09abb4a-5c64-4107-a6f8-0ca7c032f3f1"
      },
      "execution_count": null,
      "outputs": [
        {
          "output_type": "execute_result",
          "data": {
            "text/plain": [
              "array([[-0.96578858,  0.17188016, -0.81971239, -0.04694568],\n",
              "       [ 0.3594543 ,  0.68023242,  1.50846214, -0.30465125],\n",
              "       [ 0.43868262, -0.03296435,  0.29085251, -0.12591781],\n",
              "       [-0.68463484, -0.30662626,  0.87868533,  1.10064599],\n",
              "       [ 2.86793619, -0.61088078, -0.44360355, -0.42437394]])"
            ]
          },
          "metadata": {},
          "execution_count": 3
        }
      ]
    },
    {
      "cell_type": "code",
      "source": [
        "print(arr.sum())   # arr massivning barcha elementlari yig`indisini hisoblab beradi\n",
        "print(np.sum(arr))   # 2-usul"
      ],
      "metadata": {
        "colab": {
          "base_uri": "https://localhost:8080/"
        },
        "id": "9ujEhSTXJBt-",
        "outputId": "a66bf0ad-ef3f-4397-9b1d-6d0c7facfddb"
      },
      "execution_count": null,
      "outputs": [
        {
          "output_type": "stream",
          "name": "stdout",
          "text": [
            "3.5307322262092655\n",
            "3.5307322262092655\n"
          ]
        }
      ]
    },
    {
      "cell_type": "code",
      "source": [
        "arr.sum(axis = 1)    # qator ma`lumotlari bo`yicha yig`indini hisoblaydi"
      ],
      "metadata": {
        "colab": {
          "base_uri": "https://localhost:8080/"
        },
        "id": "_-cByIKbJZSz",
        "outputId": "545d6969-e93e-4187-c0f1-ee5985c7d636"
      },
      "execution_count": null,
      "outputs": [
        {
          "output_type": "execute_result",
          "data": {
            "text/plain": [
              "array([-1.66056649,  2.24349761,  0.57065297,  0.98807023,  1.38907791])"
            ]
          },
          "metadata": {},
          "execution_count": 7
        }
      ]
    },
    {
      "cell_type": "code",
      "source": [
        "arr.sum(axis = 0)    #ustun ma`lumotlari bo`yicha yig`indini hisoblaydi"
      ],
      "metadata": {
        "colab": {
          "base_uri": "https://localhost:8080/"
        },
        "id": "OcKXP1FqJ5MQ",
        "outputId": "bf3aa68e-b44e-4bfe-99a7-e552a6c2c921"
      },
      "execution_count": null,
      "outputs": [
        {
          "output_type": "execute_result",
          "data": {
            "text/plain": [
              "array([ 2.01564969, -0.09835881,  1.41468403,  0.19875732])"
            ]
          },
          "metadata": {},
          "execution_count": 8
        }
      ]
    },
    {
      "cell_type": "code",
      "source": [
        "# mean -` o`rta arifmetik qiymatni hisoblaydi\n",
        "data = np.arange(5)\n",
        "print(data)\n",
        "print(data.mean())     # data malumotlari o`rta arifmetigi"
      ],
      "metadata": {
        "colab": {
          "base_uri": "https://localhost:8080/"
        },
        "id": "WCvwbguSKHbq",
        "outputId": "f8e16341-27b8-4803-88fd-4f11883ba415"
      },
      "execution_count": null,
      "outputs": [
        {
          "output_type": "stream",
          "name": "stdout",
          "text": [
            "[0 1 2 3 4]\n",
            "2.0\n"
          ]
        }
      ]
    },
    {
      "cell_type": "code",
      "source": [],
      "metadata": {
        "id": "FyouZeQlKgOP"
      },
      "execution_count": null,
      "outputs": []
    }
  ]
}
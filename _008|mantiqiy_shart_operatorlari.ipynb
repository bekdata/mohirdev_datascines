{
  "nbformat": 4,
  "nbformat_minor": 0,
  "metadata": {
    "colab": {
      "provenance": [],
      "authorship_tag": "ABX9TyNYBAJowWdMTOVOqsnI/10L",
      "include_colab_link": true
    },
    "kernelspec": {
      "name": "python3",
      "display_name": "Python 3"
    },
    "language_info": {
      "name": "python"
    }
  },
  "cells": [
    {
      "cell_type": "markdown",
      "metadata": {
        "id": "view-in-github",
        "colab_type": "text"
      },
      "source": [
        "<a href=\"https://colab.research.google.com/github/bekdata/mohirdev_datascines/blob/main/_008%7Cmantiqiy_shart_operatorlari.ipynb\" target=\"_parent\"><img src=\"https://colab.research.google.com/assets/colab-badge.svg\" alt=\"Open In Colab\"/></a>"
      ]
    },
    {
      "cell_type": "code",
      "execution_count": 6,
      "metadata": {
        "id": "PQ_EKiCPUrQ6"
      },
      "outputs": [],
      "source": [
        "import numpy as np"
      ]
    },
    {
      "cell_type": "code",
      "source": [
        "arr = np.random.randn(4,4)     # masiv yaratish\n",
        "arr"
      ],
      "metadata": {
        "colab": {
          "base_uri": "https://localhost:8080/"
        },
        "id": "yaO95-TSU6Kr",
        "outputId": "817895d3-05a7-4818-c50a-fe575a4d6b50"
      },
      "execution_count": 8,
      "outputs": [
        {
          "output_type": "execute_result",
          "data": {
            "text/plain": [
              "array([[ 0.83436607,  0.12982678,  1.69197985, -0.4173985 ],\n",
              "       [-1.74836872, -0.2802556 , -0.36535395,  0.83281336],\n",
              "       [ 0.42156429,  0.66403654, -1.26185089,  0.84951679],\n",
              "       [ 0.11856119, -0.08698919, -0.23292735, -0.19939762]])"
            ]
          },
          "metadata": {},
          "execution_count": 8
        }
      ]
    },
    {
      "cell_type": "code",
      "source": [
        "result = np.where(arr<0, -1, 1)    #qiymat <0 bolsa =-1, yoki >1 bo`lsa =+1 deb nomlangan kod\n",
        "result"
      ],
      "metadata": {
        "colab": {
          "base_uri": "https://localhost:8080/"
        },
        "id": "QSbY9ArXVv_-",
        "outputId": "cb897d03-4d2e-4ccb-feca-3b144861ae50"
      },
      "execution_count": 13,
      "outputs": [
        {
          "output_type": "execute_result",
          "data": {
            "text/plain": [
              "array([[ 1,  1,  1, -1],\n",
              "       [-1, -1, -1,  1],\n",
              "       [ 1,  1, -1,  1],\n",
              "       [ 1, -1, -1, -1]])"
            ]
          },
          "metadata": {},
          "execution_count": 13
        }
      ]
    },
    {
      "cell_type": "code",
      "source": [
        "arr2 = np.random.randn(4,4)\n",
        "arr2"
      ],
      "metadata": {
        "colab": {
          "base_uri": "https://localhost:8080/"
        },
        "id": "RSCjWBrRWNwJ",
        "outputId": "2210db2e-ae60-4643-b8fb-cee276783206"
      },
      "execution_count": 17,
      "outputs": [
        {
          "output_type": "execute_result",
          "data": {
            "text/plain": [
              "array([[-0.0453945 , -0.07750009,  2.17648017, -0.97074444],\n",
              "       [ 0.17826584,  0.06917384, -1.40587023, -0.69553121],\n",
              "       [-1.35688307,  0.50403596,  1.18427412, -0.31150341],\n",
              "       [ 0.43905238, -0.36859837,  0.98465292, -0.44163774]])"
            ]
          },
          "metadata": {},
          "execution_count": 17
        }
      ]
    },
    {
      "cell_type": "code",
      "source": [
        "result2 = np.where(arr2<0, -4, 5)    # qiymat musbat bo`lsa =5, manfiy bolsa -4 ga teng\n",
        "result2"
      ],
      "metadata": {
        "colab": {
          "base_uri": "https://localhost:8080/"
        },
        "id": "EBOvGFpwWPJP",
        "outputId": "1c297474-ca0e-4e92-f0f6-a9376bd7d8fc"
      },
      "execution_count": 21,
      "outputs": [
        {
          "output_type": "execute_result",
          "data": {
            "text/plain": [
              "array([[-4, -4,  5, -4],\n",
              "       [ 5,  5, -4, -4],\n",
              "       [-4,  5,  5, -4],\n",
              "       [ 5, -4,  5, -4]])"
            ]
          },
          "metadata": {},
          "execution_count": 21
        }
      ]
    },
    {
      "cell_type": "code",
      "source": [],
      "metadata": {
        "id": "ph40XFx-Zviw"
      },
      "execution_count": null,
      "outputs": []
    }
  ]
}
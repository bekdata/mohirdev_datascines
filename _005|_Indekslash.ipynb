{
  "nbformat": 4,
  "nbformat_minor": 0,
  "metadata": {
    "colab": {
      "provenance": [],
      "authorship_tag": "ABX9TyOW4G7F/j99DvRxk6JaIAc1",
      "include_colab_link": true
    },
    "kernelspec": {
      "name": "python3",
      "display_name": "Python 3"
    },
    "language_info": {
      "name": "python"
    }
  },
  "cells": [
    {
      "cell_type": "markdown",
      "metadata": {
        "id": "view-in-github",
        "colab_type": "text"
      },
      "source": [
        "<a href=\"https://colab.research.google.com/github/bekdata/mohirdev_datascines/blob/main/_005%7C_Indekslash.ipynb\" target=\"_parent\"><img src=\"https://colab.research.google.com/assets/colab-badge.svg\" alt=\"Open In Colab\"/></a>"
      ]
    },
    {
      "cell_type": "code",
      "execution_count": 7,
      "metadata": {
        "id": "iLIMpT4S32Xd"
      },
      "outputs": [],
      "source": [
        "import numpy as np\n"
      ]
    },
    {
      "cell_type": "code",
      "source": [
        "ismlar = ['ali', 'vali', 'hasan', 'husan']\n",
        "type(ismlar)   # ro`yxat element"
      ],
      "metadata": {
        "colab": {
          "base_uri": "https://localhost:8080/"
        },
        "id": "QuwJKPjH4RaD",
        "outputId": "98839a1d-2134-4c09-a23a-104fcc338563"
      },
      "execution_count": 3,
      "outputs": [
        {
          "output_type": "execute_result",
          "data": {
            "text/plain": [
              "list"
            ]
          },
          "metadata": {},
          "execution_count": 3
        }
      ]
    },
    {
      "cell_type": "code",
      "source": [
        "data = np.array(ismlar)\n",
        "data"
      ],
      "metadata": {
        "colab": {
          "base_uri": "https://localhost:8080/"
        },
        "id": "vXZ5hfTv4mH7",
        "outputId": "fde799c7-9203-4739-913a-22f37829eac5"
      },
      "execution_count": 13,
      "outputs": [
        {
          "output_type": "execute_result",
          "data": {
            "text/plain": [
              "array(['ali', 'vali', 'hasan', 'husan'], dtype='<U5')"
            ]
          },
          "metadata": {},
          "execution_count": 13
        }
      ]
    },
    {
      "cell_type": "code",
      "source": [
        "# elementning mavjutigini tekshirish\n",
        "data == 'ali'"
      ],
      "metadata": {
        "colab": {
          "base_uri": "https://localhost:8080/"
        },
        "id": "_vWPTTQB5wGl",
        "outputId": "c34cc551-063f-49e7-e257-7ea53b5933b7"
      },
      "execution_count": 14,
      "outputs": [
        {
          "output_type": "execute_result",
          "data": {
            "text/plain": [
              "array([ True, False, False, False])"
            ]
          },
          "metadata": {},
          "execution_count": 14
        }
      ]
    },
    {
      "cell_type": "code",
      "source": [
        "arr1 = np.random.rand(7,4)\n",
        "arr1"
      ],
      "metadata": {
        "colab": {
          "base_uri": "https://localhost:8080/"
        },
        "id": "H4CR-EVo4_zF",
        "outputId": "54e68d29-bfce-4813-d928-d6a3125a9abf"
      },
      "execution_count": 22,
      "outputs": [
        {
          "output_type": "execute_result",
          "data": {
            "text/plain": [
              "array([[0.14730009, 0.8007411 , 0.18961392, 0.15523013],\n",
              "       [0.06101967, 0.95066544, 0.60384228, 0.08807549],\n",
              "       [0.80355282, 0.95128705, 0.03197359, 0.49347348],\n",
              "       [0.48680701, 0.8495718 , 0.53755772, 0.99902272],\n",
              "       [0.64828273, 0.43698818, 0.22060818, 0.93722203],\n",
              "       [0.84487925, 0.79404556, 0.08763967, 0.39185595],\n",
              "       [0.08348335, 0.10980847, 0.84469503, 0.27786507]])"
            ]
          },
          "metadata": {},
          "execution_count": 22
        }
      ]
    },
    {
      "cell_type": "code",
      "source": [
        "arr1[arr1 < 0] = 0"
      ],
      "metadata": {
        "id": "svnxv0d86Fpt"
      },
      "execution_count": 23,
      "outputs": []
    },
    {
      "cell_type": "code",
      "source": [
        "arr1"
      ],
      "metadata": {
        "colab": {
          "base_uri": "https://localhost:8080/"
        },
        "id": "whCUXEKS6dZq",
        "outputId": "2ce95679-0d08-4393-edd1-22aa748d8538"
      },
      "execution_count": 24,
      "outputs": [
        {
          "output_type": "execute_result",
          "data": {
            "text/plain": [
              "array([[0.14730009, 0.8007411 , 0.18961392, 0.15523013],\n",
              "       [0.06101967, 0.95066544, 0.60384228, 0.08807549],\n",
              "       [0.80355282, 0.95128705, 0.03197359, 0.49347348],\n",
              "       [0.48680701, 0.8495718 , 0.53755772, 0.99902272],\n",
              "       [0.64828273, 0.43698818, 0.22060818, 0.93722203],\n",
              "       [0.84487925, 0.79404556, 0.08763967, 0.39185595],\n",
              "       [0.08348335, 0.10980847, 0.84469503, 0.27786507]])"
            ]
          },
          "metadata": {},
          "execution_count": 24
        }
      ]
    },
    {
      "cell_type": "code",
      "source": [],
      "metadata": {
        "id": "Cib7WZIU6veI"
      },
      "execution_count": null,
      "outputs": []
    }
  ]
}
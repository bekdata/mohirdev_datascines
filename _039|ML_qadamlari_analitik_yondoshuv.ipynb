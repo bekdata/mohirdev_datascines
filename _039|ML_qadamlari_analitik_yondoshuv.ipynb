{
  "nbformat": 4,
  "nbformat_minor": 0,
  "metadata": {
    "colab": {
      "provenance": [],
      "authorship_tag": "ABX9TyOfHbejeP/fK6zVn0p0Pi6g",
      "include_colab_link": true
    },
    "kernelspec": {
      "name": "python3",
      "display_name": "Python 3"
    },
    "language_info": {
      "name": "python"
    }
  },
  "cells": [
    {
      "cell_type": "markdown",
      "metadata": {
        "id": "view-in-github",
        "colab_type": "text"
      },
      "source": [
        "<a href=\"https://colab.research.google.com/github/bekdata/mohirdev_datascines/blob/main/_039%7CML_qadamlari_analitik_yondoshuv.ipynb\" target=\"_parent\"><img src=\"https://colab.research.google.com/assets/colab-badge.svg\" alt=\"Open In Colab\"/></a>"
      ]
    },
    {
      "cell_type": "code",
      "execution_count": null,
      "metadata": {
        "id": "4akfOW-1Wdkl"
      },
      "outputs": [],
      "source": [
        "# bu qism loyihaning qurilish jarayonining boshlanilishi\n",
        "# qaysi bo`lim qanday o`qitish, qaysi tur bilan o`qitish\n",
        "# natija qanday xolatda chiqishi mana shu qismda kelishib olinib ish boshlanadi"
      ]
    }
  ]
}